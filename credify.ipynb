{
  "cells": [
    {
      "cell_type": "markdown",
      "metadata": {
        "id": "view-in-github",
        "colab_type": "text"
      },
      "source": [
        "<a href=\"https://colab.research.google.com/github/stevejobs1524/Credify/blob/main/credify.ipynb\" target=\"_parent\"><img src=\"https://colab.research.google.com/assets/colab-badge.svg\" alt=\"Open In Colab\"/></a>"
      ]
    },
    {
      "cell_type": "code",
      "execution_count": null,
      "metadata": {
        "colab": {
          "background_save": true,
          "base_uri": "https://localhost:8080/"
        },
        "id": "SA9N73BgH9YC",
        "outputId": "f69527c4-6310-4069-ae90-2e20dd8d27bb"
      },
      "outputs": [
        {
          "name": "stdout",
          "output_type": "stream",
          "text": [
            "\u001b[2K     \u001b[90m━━━━━━━━━━━━━━━━━━━━━━━━━━━━━━━━━━━━━━━\u001b[0m \u001b[32m108.0/108.0 kB\u001b[0m \u001b[31m2.4 MB/s\u001b[0m eta \u001b[36m0:00:00\u001b[0m\n",
            "\u001b[?25h  Preparing metadata (setup.py) ... \u001b[?25l\u001b[?25hdone\n",
            "\u001b[2K     \u001b[90m━━━━━━━━━━━━━━━━━━━━━━━━━━━━━━━━━━━━━━━\u001b[0m \u001b[32m210.0/210.0 kB\u001b[0m \u001b[31m7.4 MB/s\u001b[0m eta \u001b[36m0:00:00\u001b[0m\n",
            "\u001b[?25h  Preparing metadata (setup.py) ... \u001b[?25l\u001b[?25hdone\n",
            "\u001b[2K     \u001b[90m━━━━━━━━━━━━━━━━━━━━━━━━━━━━━━━━━━━━━━━━\u001b[0m \u001b[32m63.1/63.1 kB\u001b[0m \u001b[31m4.2 MB/s\u001b[0m eta \u001b[36m0:00:00\u001b[0m\n",
            "\u001b[2K   \u001b[90m━━━━━━━━━━━━━━━━━━━━━━━━━━━━━━━━━━━━━━━━\u001b[0m \u001b[32m1.1/1.1 MB\u001b[0m \u001b[31m28.8 MB/s\u001b[0m eta \u001b[36m0:00:00\u001b[0m\n",
            "\u001b[?25h  Building wheel for torch-scatter (setup.py) ... \u001b[?25l\u001b[?25hdone\n",
            "  Building wheel for torch-sparse (setup.py) ... \u001b[?25l\u001b[?25hdone\n"
          ]
        }
      ],
      "source": [
        "# Step 1: Install required packages\n",
        "!pip install torch-scatter torch-sparse torch-geometric -q\n"
      ]
    },
    {
      "cell_type": "code",
      "execution_count": null,
      "metadata": {
        "id": "0Ow0bKhpIQLh"
      },
      "outputs": [],
      "source": [
        "# Step 2: Import necessary libraries\n",
        "import torch\n",
        "import torch.nn.functional as F\n",
        "from torch_geometric.nn import GCNConv\n",
        "from torch_geometric.data import Data\n"
      ]
    },
    {
      "cell_type": "code",
      "execution_count": null,
      "metadata": {
        "id": "Ffghrwd1ISHx"
      },
      "outputs": [],
      "source": [
        "# Step 3: Define the GCN model class\n",
        "class GCN(torch.nn.Module):\n",
        "    def __init__(self, num_features, hidden_channels, num_classes):\n",
        "        super(GCN, self).__init__()\n",
        "        self.conv1 = GCNConv(num_features, hidden_channels)\n",
        "        self.conv2 = GCNConv(hidden_channels, num_classes)\n",
        "\n",
        "    def forward(self, data):\n",
        "        x, edge_index = data.x, data.edge_index\n",
        "        x = self.conv1(x, edge_index)\n",
        "        x = F.relu(x)\n",
        "        x = F.dropout(x, training=self.training)\n",
        "        x = self.conv2(x, edge_index)\n",
        "        return x\n"
      ]
    },
    {
      "cell_type": "code",
      "execution_count": null,
      "metadata": {
        "id": "u9q356EdIUcq"
      },
      "outputs": [],
      "source": [
        "# Step 4: Create a toy dataset (4 nodes with 3 features each)\n",
        "x = torch.tensor([\n",
        "    [0.2, 0.1, 0.5],  # Node 0\n",
        "    [0.8, 0.9, 0.3],  # Node 1\n",
        "    [0.4, 0.2, 0.6],  # Node 2\n",
        "    [0.9, 0.7, 0.1],  # Node 3\n",
        "], dtype=torch.float)\n",
        "\n",
        "# Define edges between the nodes (undirected graph)\n",
        "edge_index = torch.tensor([\n",
        "    [0, 1, 1, 2, 2, 3],  # source nodes\n",
        "    [1, 0, 2, 1, 3, 2],  # target nodes\n",
        "], dtype=torch.long)\n",
        "\n",
        "# Labels: 0 = Real account, 1 = Fake account\n",
        "y = torch.tensor([0, 1, 0, 1], dtype=torch.long)\n",
        "\n",
        "# Training and testing masks\n",
        "train_mask = torch.tensor([True, True, False, False])\n",
        "test_mask = torch.tensor([False, False, True, True])\n",
        "\n",
        "# Package into a PyTorch Geometric Data object\n",
        "data = Data(x=x, edge_index=edge_index, y=y, train_mask=train_mask, test_mask=test_mask)\n"
      ]
    },
    {
      "cell_type": "code",
      "execution_count": null,
      "metadata": {
        "id": "YIm1YN32IXYY"
      },
      "outputs": [],
      "source": [
        "# Step 5: Define training function\n",
        "def train(model, data, optimizer, criterion):\n",
        "    model.train()\n",
        "    optimizer.zero_grad()\n",
        "    out = model(data)\n",
        "    loss = criterion(out[data.train_mask], data.y[data.train_mask])\n",
        "    loss.backward()\n",
        "    optimizer.step()\n",
        "    return loss.item()\n"
      ]
    },
    {
      "cell_type": "code",
      "execution_count": null,
      "metadata": {
        "id": "oCsyDP4hIZPJ"
      },
      "outputs": [],
      "source": [
        "# Step 6: Define evaluation function\n",
        "def evaluate(model, data):\n",
        "    model.eval()\n",
        "    out = model(data)\n",
        "    pred = out.argmax(dim=1)\n",
        "\n",
        "    test_pred = pred[data.test_mask]\n",
        "    test_labels = data.y[data.test_mask]\n",
        "\n",
        "    accuracy = (test_pred == test_labels).sum().item() / len(test_labels)\n",
        "    print(\"Evaluation Results:\")\n",
        "    print(\"Accuracy:\", round(accuracy, 4))\n",
        "    print(\"Predicted Labels:\", test_pred.tolist())\n",
        "    print(\"Actual Labels:   \", test_labels.tolist())\n"
      ]
    },
    {
      "cell_type": "code",
      "execution_count": null,
      "metadata": {
        "colab": {
          "base_uri": "https://localhost:8080/"
        },
        "id": "AOOPtUl9Iby4",
        "outputId": "9547f398-9724-4a26-efe4-c427aa1762a6"
      },
      "outputs": [
        {
          "name": "stdout",
          "output_type": "stream",
          "text": [
            "Data prepared.\n",
            "Fake accounts in train set: 1\n",
            "Fake accounts in test set: 1\n"
          ]
        }
      ],
      "source": [
        "# Step 7: Initialize model, optimizer, and loss function\n",
        "model = GCN(num_features=3, hidden_channels=4, num_classes=2)\n",
        "optimizer = torch.optim.Adam(model.parameters(), lr=0.01)\n",
        "criterion = torch.nn.CrossEntropyLoss()\n",
        "\n",
        "print(\"Data prepared.\")\n",
        "print(\"Fake accounts in train set:\", data.y[data.train_mask].sum().item())\n",
        "print(\"Fake accounts in test set:\", data.y[data.test_mask].sum().item())\n"
      ]
    },
    {
      "cell_type": "code",
      "execution_count": null,
      "metadata": {
        "colab": {
          "base_uri": "https://localhost:8080/"
        },
        "id": "0OoWobpPIhMI",
        "outputId": "fbab7018-6253-4cf1-84fe-255269e9af2f"
      },
      "outputs": [
        {
          "name": "stdout",
          "output_type": "stream",
          "text": [
            "Evaluation Results:\n",
            "Accuracy: 0.5\n",
            "Predicted Labels: [0, 0]\n",
            "Actual Labels:    [0, 1]\n"
          ]
        }
      ],
      "source": [
        "# Step 9: Evaluate model performance\n",
        "evaluate(model, data)\n"
      ]
    },
    {
      "cell_type": "code",
      "execution_count": null,
      "metadata": {
        "colab": {
          "base_uri": "https://localhost:8080/",
          "height": 494
        },
        "id": "jnP2V6JSI27i",
        "outputId": "ded8899f-a4b8-417e-ff5a-e2694a56174a"
      },
      "outputs": [
        {
          "name": "stderr",
          "output_type": "stream",
          "text": [
            "<ipython-input-14-ccf960eb20be>:24: UserWarning: This figure includes Axes that are not compatible with tight_layout, so results might be incorrect.\n",
            "  plt.tight_layout()\n"
          ]
        },
        {
          "data": {
            "image/png": "[encoded data removed]",
            "text/plain": [
              "<Figure size 500x400 with 1 Axes>"
            ]
          },
          "metadata": {},
          "output_type": "display_data"
        }
      ],
      "source": [
        "# Re-run the graph visualization code after kernel reset\n",
        "\n",
        "import matplotlib.pyplot as plt\n",
        "import networkx as nx\n",
        "\n",
        "# Define the graph structure\n",
        "edges = [(0, 1), (1, 2), (2, 3)]\n",
        "labels = {0: \"Real\", 1: \"Fake\", 2: \"Real\", 3: \"Fake\"}\n",
        "\n",
        "# Create a networkx graph\n",
        "G = nx.Graph()\n",
        "G.add_edges_from(edges)\n",
        "\n",
        "# Define node colors based on label\n",
        "node_colors = ['green' if labels[node] == \"Real\" else 'red' for node in G.nodes]\n",
        "\n",
        "# Draw the graph\n",
        "plt.figure(figsize=(5, 4))\n",
        "pos = nx.spring_layout(G, seed=42)\n",
        "nx.draw(G, pos, with_labels=True, node_color=node_colors, node_size=800, font_color='white')\n",
        "nx.draw_networkx_labels(G, pos, labels={i: f\"{i} ({labels[i]})\" for i in G.nodes}, font_color='white')\n",
        "plt.title(\"4-Node GCN Input Graph (Real vs Fake Accounts)\")\n",
        "plt.axis('off')\n",
        "plt.tight_layout()\n",
        "plt.show()\n"
      ]
    }
  ],
  "metadata": {
    "colab": {
      "provenance": [],
      "include_colab_link": true
    },
    "kernelspec": {
      "display_name": "Python 3",
      "name": "python3"
    },
    "language_info": {
      "name": "python"
    }
  },
  "nbformat": 4,
  "nbformat_minor": 0
}